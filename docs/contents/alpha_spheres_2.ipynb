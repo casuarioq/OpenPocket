{
 "cells": [
  {
   "cell_type": "code",
   "execution_count": 1,
   "id": "5e61b1dc-2bc4-43b1-99dc-c9339a1abb69",
   "metadata": {},
   "outputs": [],
   "source": [
    "%load_ext autoreload\n",
    "%autoreload 2"
   ]
  },
  {
   "cell_type": "markdown",
   "id": "bcfeda5b-e8d7-45ee-9932-795131351b6f",
   "metadata": {},
   "source": [
    "# Getting the pockets of a protein:\n",
    "\n"
   ]
  },
  {
   "cell_type": "markdown",
   "id": "e4105276-2202-4384-b484-b9f15901410c",
   "metadata": {},
   "source": [
    "The libraries `openpocket` and `molsysmt` are imported:"
   ]
  },
  {
   "cell_type": "code",
   "execution_count": 2,
   "id": "279d8f80-8de5-4ddf-8a3f-2b4d29fd348e",
   "metadata": {},
   "outputs": [
    {
     "data": {
      "application/vnd.jupyter.widget-view+json": {
       "model_id": "61f051f9875a43419614fc4b523e49cf",
       "version_major": 2,
       "version_minor": 0
      },
      "text/plain": []
     },
     "metadata": {},
     "output_type": "display_data"
    }
   ],
   "source": [
    "import molsysmt as msm\n",
    "import openpocket as opoc"
   ]
  },
  {
   "cell_type": "markdown",
   "id": "c8b6fbb4-afb5-4a20-b0f1-c045bc36a7bc",
   "metadata": {},
   "source": [
    "Let's get the coordinates of the protein with PDB id: 1BG3"
   ]
  },
  {
   "cell_type": "code",
   "execution_count": null,
   "id": "ad881930-1d3b-42d7-9637-915cfb657a27",
   "metadata": {},
   "outputs": [],
   "source": [
    "molsys = msm.convert('1TCD')"
   ]
  },
  {
   "cell_type": "code",
   "execution_count": null,
   "id": "df10577e-0047-4fb1-8d84-5d988493350f",
   "metadata": {},
   "outputs": [],
   "source": [
    "msm.view(molsys)"
   ]
  }
 ],
 "metadata": {
  "kernelspec": {
   "display_name": "Python 3 (ipykernel)",
   "language": "python",
   "name": "python3"
  },
  "language_info": {
   "codemirror_mode": {
    "name": "ipython",
    "version": 3
   },
   "file_extension": ".py",
   "mimetype": "text/x-python",
   "name": "python",
   "nbconvert_exporter": "python",
   "pygments_lexer": "ipython3",
   "version": "3.9.13"
  }
 },
 "nbformat": 4,
 "nbformat_minor": 5
}
