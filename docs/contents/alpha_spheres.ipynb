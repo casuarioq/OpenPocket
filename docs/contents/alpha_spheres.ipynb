{
 "cells": [
  {
   "cell_type": "code",
   "execution_count": 1,
   "id": "5e61b1dc-2bc4-43b1-99dc-c9339a1abb69",
   "metadata": {},
   "outputs": [],
   "source": [
    "%load_ext autoreload\n",
    "%autoreload 2"
   ]
  },
  {
   "cell_type": "markdown",
   "id": "bcfeda5b-e8d7-45ee-9932-795131351b6f",
   "metadata": {},
   "source": [
    "# Alpha-spheres\n",
    "\n",
    "Testing if our new class works..."
   ]
  },
  {
   "cell_type": "code",
   "execution_count": 2,
   "id": "279d8f80-8de5-4ddf-8a3f-2b4d29fd348e",
   "metadata": {},
   "outputs": [],
   "source": [
    "import openpocket as opoc"
   ]
  },
  {
   "cell_type": "code",
   "execution_count": 3,
   "id": "98fdefec-37b7-479c-8092-db99cac4e5eb",
   "metadata": {},
   "outputs": [],
   "source": [
    "points = ([[-1.,  2.,  0.],\n",
    "           [ 0.,  2.,  1.],\n",
    "           [ 1., -2.,  1.],\n",
    "           [ 0.,  1.,  1.],\n",
    "           [ 0.,  0.,  0.],\n",
    "           [-1., -1.,  0.]])"
   ]
  },
  {
   "cell_type": "code",
   "execution_count": 4,
   "id": "9773ba61-95d5-4264-954a-6d2aec703eb4",
   "metadata": {},
   "outputs": [],
   "source": [
    "aspheres = opoc.alpha_spheres.AlphaSpheres(points)"
   ]
  },
  {
   "cell_type": "code",
   "execution_count": 5,
   "id": "bb8150e8-fbe8-4dad-b69f-3321981457c4",
   "metadata": {},
   "outputs": [
    {
     "data": {
      "text/plain": [
       "array([[-1.,  2.,  0.],\n",
       "       [ 0.,  2.,  1.],\n",
       "       [ 1., -2.,  1.],\n",
       "       [ 0.,  1.,  1.],\n",
       "       [ 0.,  0.,  0.],\n",
       "       [-1., -1.,  0.]])"
      ]
     },
     "execution_count": 5,
     "metadata": {},
     "output_type": "execute_result"
    }
   ],
   "source": [
    "aspheres.points"
   ]
  },
  {
   "cell_type": "code",
   "execution_count": 6,
   "id": "06aa1a98-31ba-4ff1-a219-255db4301974",
   "metadata": {},
   "outputs": [
    {
     "data": {
      "text/plain": [
       "6"
      ]
     },
     "execution_count": 6,
     "metadata": {},
     "output_type": "execute_result"
    }
   ],
   "source": [
    "aspheres.n_points"
   ]
  },
  {
   "cell_type": "code",
   "execution_count": 7,
   "id": "dbc9306c-8a8b-4929-8976-e9ff59ce169c",
   "metadata": {},
   "outputs": [
    {
     "data": {
      "text/plain": [
       "4"
      ]
     },
     "execution_count": 7,
     "metadata": {},
     "output_type": "execute_result"
    }
   ],
   "source": [
    "aspheres.n_alpha_spheres"
   ]
  },
  {
   "cell_type": "code",
   "execution_count": 8,
   "id": "1a69b0cf-30ba-4f6f-8463-4eb0efe96c22",
   "metadata": {},
   "outputs": [
    {
     "data": {
      "text/plain": [
       "array([[ 6.5 ,  1.5 , -0.5 ],\n",
       "       [-0.25, -0.75,  1.75],\n",
       "       [ 0.5 ,  1.5 , -0.5 ],\n",
       "       [-1.5 ,  0.5 ,  0.5 ]])"
      ]
     },
     "execution_count": 8,
     "metadata": {},
     "output_type": "execute_result"
    }
   ],
   "source": [
    "aspheres.centers"
   ]
  },
  {
   "cell_type": "code",
   "execution_count": 9,
   "id": "f38886b6-d883-4cd0-b130-c4369c9d452f",
   "metadata": {},
   "outputs": [
    {
     "data": {
      "text/plain": [
       "array([6.68954408, 1.92028644, 1.6583124 , 1.6583124 ])"
      ]
     },
     "execution_count": 9,
     "metadata": {},
     "output_type": "execute_result"
    }
   ],
   "source": [
    "aspheres.radii"
   ]
  },
  {
   "cell_type": "code",
   "execution_count": 10,
   "id": "20874168-18e6-45b4-980f-4dedc222b3f1",
   "metadata": {},
   "outputs": [
    {
     "data": {
      "text/plain": [
       "array([[1, 2, 3, 4],\n",
       "       [2, 3, 4, 5],\n",
       "       [0, 1, 3, 4],\n",
       "       [0, 3, 4, 5]])"
      ]
     },
     "execution_count": 10,
     "metadata": {},
     "output_type": "execute_result"
    }
   ],
   "source": [
    "aspheres.points_of_alpha_sphere"
   ]
  },
  {
   "cell_type": "code",
   "execution_count": 11,
   "id": "a85553b9-b970-4479-a550-5a51d2f18fec",
   "metadata": {},
   "outputs": [
    {
     "data": {
      "text/plain": [
       "[2, 3, 4, 5]"
      ]
     },
     "execution_count": 11,
     "metadata": {},
     "output_type": "execute_result"
    }
   ],
   "source": [
    "aspheres.get_points_of_alpha_spheres([1])"
   ]
  },
  {
   "cell_type": "code",
   "execution_count": 12,
   "id": "0d5e02c4-6a16-4c3e-a8f2-5607c31f3eb8",
   "metadata": {},
   "outputs": [],
   "source": [
    "aspheres.remove_big_alpha_spheres(5.0)"
   ]
  },
  {
   "cell_type": "code",
   "execution_count": 13,
   "id": "0b7c0cec-e8d1-405c-bfa4-509f32104687",
   "metadata": {},
   "outputs": [
    {
     "data": {
      "text/plain": [
       "3"
      ]
     },
     "execution_count": 13,
     "metadata": {},
     "output_type": "execute_result"
    }
   ],
   "source": [
    "aspheres.n_alpha_spheres"
   ]
  },
  {
   "cell_type": "code",
   "execution_count": 14,
   "id": "7773afbc-6807-4afb-b058-97d212cc5950",
   "metadata": {},
   "outputs": [
    {
     "data": {
      "text/plain": [
       "array([1.92028644, 1.6583124 , 1.6583124 ])"
      ]
     },
     "execution_count": 14,
     "metadata": {},
     "output_type": "execute_result"
    }
   ],
   "source": [
    "aspheres.radii"
   ]
  },
  {
   "cell_type": "code",
   "execution_count": 15,
   "id": "8fbb5470-8d77-4206-8d3c-e5475671554a",
   "metadata": {},
   "outputs": [
    {
     "data": {
      "text/plain": [
       "array([[-0.25, -0.75,  1.75],\n",
       "       [ 0.5 ,  1.5 , -0.5 ],\n",
       "       [-1.5 ,  0.5 ,  0.5 ]])"
      ]
     },
     "execution_count": 15,
     "metadata": {},
     "output_type": "execute_result"
    }
   ],
   "source": [
    "aspheres.centers"
   ]
  },
  {
   "cell_type": "code",
   "execution_count": 16,
   "id": "64d675c7-89a2-4c88-ab0b-5e8d8a2ab37f",
   "metadata": {},
   "outputs": [
    {
     "data": {
      "application/vnd.jupyter.widget-view+json": {
       "model_id": "1325fbb3026c4cae805169b0b84c40de",
       "version_major": 2,
       "version_minor": 0
      },
      "text/plain": []
     },
     "metadata": {},
     "output_type": "display_data"
    },
    {
     "data": {
      "application/vnd.jupyter.widget-view+json": {
       "model_id": "6eed4efff9ba43178ecf981c4ad52d17",
       "version_major": 2,
       "version_minor": 0
      },
      "text/plain": [
       "NGLWidget()"
      ]
     },
     "metadata": {},
     "output_type": "display_data"
    }
   ],
   "source": [
    "aspheres.view()"
   ]
  },
  {
   "cell_type": "code",
   "execution_count": null,
   "id": "1c481786-e66f-4cf0-849b-57860a28931f",
   "metadata": {},
   "outputs": [],
   "source": []
  }
 ],
 "metadata": {
  "kernelspec": {
   "display_name": "Python 3 (ipykernel)",
   "language": "python",
   "name": "python3"
  },
  "language_info": {
   "codemirror_mode": {
    "name": "ipython",
    "version": 3
   },
   "file_extension": ".py",
   "mimetype": "text/x-python",
   "name": "python",
   "nbconvert_exporter": "python",
   "pygments_lexer": "ipython3",
   "version": "3.9.13"
  }
 },
 "nbformat": 4,
 "nbformat_minor": 5
}
