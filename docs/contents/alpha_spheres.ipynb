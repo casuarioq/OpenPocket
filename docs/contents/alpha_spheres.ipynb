{
 "cells": [
  {
   "cell_type": "markdown",
   "id": "bcfeda5b-e8d7-45ee-9932-795131351b6f",
   "metadata": {},
   "source": [
    "# Alpha-spheres\n",
    "\n",
    "Testing if our new class works..."
   ]
  },
  {
   "cell_type": "code",
   "execution_count": 1,
   "id": "279d8f80-8de5-4ddf-8a3f-2b4d29fd348e",
   "metadata": {},
   "outputs": [],
   "source": [
    "import openpocket as opo"
   ]
  },
  {
   "cell_type": "code",
   "execution_count": 2,
   "id": "98fdefec-37b7-479c-8092-db99cac4e5eb",
   "metadata": {},
   "outputs": [],
   "source": [
    "points = ([[-1.,  2.,  0.],\n",
    "           [ 0.,  2.,  1.],\n",
    "           [ 1., -2.,  1.],\n",
    "           [ 0.,  1.,  1.],\n",
    "           [ 0.,  0.,  0.],\n",
    "           [-1., -1.,  0.]])"
   ]
  },
  {
   "cell_type": "code",
   "execution_count": 3,
   "id": "9773ba61-95d5-4264-954a-6d2aec703eb4",
   "metadata": {},
   "outputs": [],
   "source": [
    "aspheres = opo.alpha_spheres.AlphaSpheres(points)"
   ]
  },
  {
   "cell_type": "code",
   "execution_count": 4,
   "id": "bb8150e8-fbe8-4dad-b69f-3321981457c4",
   "metadata": {},
   "outputs": [
    {
     "data": {
      "text/plain": [
       "array([[-1.,  2.,  0.],\n",
       "       [ 0.,  2.,  1.],\n",
       "       [ 1., -2.,  1.],\n",
       "       [ 0.,  1.,  1.],\n",
       "       [ 0.,  0.,  0.],\n",
       "       [-1., -1.,  0.]])"
      ]
     },
     "execution_count": 4,
     "metadata": {},
     "output_type": "execute_result"
    }
   ],
   "source": [
    "aspheres.points"
   ]
  },
  {
   "cell_type": "code",
   "execution_count": 5,
   "id": "06aa1a98-31ba-4ff1-a219-255db4301974",
   "metadata": {},
   "outputs": [
    {
     "data": {
      "text/plain": [
       "6"
      ]
     },
     "execution_count": 5,
     "metadata": {},
     "output_type": "execute_result"
    }
   ],
   "source": [
    "aspheres.n_points"
   ]
  },
  {
   "cell_type": "code",
   "execution_count": 6,
   "id": "dbc9306c-8a8b-4929-8976-e9ff59ce169c",
   "metadata": {},
   "outputs": [
    {
     "data": {
      "text/plain": [
       "4"
      ]
     },
     "execution_count": 6,
     "metadata": {},
     "output_type": "execute_result"
    }
   ],
   "source": [
    "aspheres.n_alpha_spheres"
   ]
  },
  {
   "cell_type": "code",
   "execution_count": 7,
   "id": "1a69b0cf-30ba-4f6f-8463-4eb0efe96c22",
   "metadata": {},
   "outputs": [
    {
     "data": {
      "text/plain": [
       "array([[ 6.5 ,  1.5 , -0.5 ],\n",
       "       [-0.25, -0.75,  1.75],\n",
       "       [ 0.5 ,  1.5 , -0.5 ],\n",
       "       [-1.5 ,  0.5 ,  0.5 ]])"
      ]
     },
     "execution_count": 7,
     "metadata": {},
     "output_type": "execute_result"
    }
   ],
   "source": [
    "aspheres.centers"
   ]
  },
  {
   "cell_type": "code",
   "execution_count": 8,
   "id": "f38886b6-d883-4cd0-b130-c4369c9d452f",
   "metadata": {},
   "outputs": [
    {
     "data": {
      "text/plain": [
       "[6.689544080129826, 1.920286436967152, 1.6583123951777, 1.6583123951777]"
      ]
     },
     "execution_count": 8,
     "metadata": {},
     "output_type": "execute_result"
    }
   ],
   "source": [
    "aspheres.radii"
   ]
  },
  {
   "cell_type": "code",
   "execution_count": 9,
   "id": "20874168-18e6-45b4-980f-4dedc222b3f1",
   "metadata": {},
   "outputs": [
    {
     "data": {
      "text/plain": [
       "[[1, 2, 3, 4], [2, 3, 4, 5], [0, 1, 3, 4], [0, 3, 4, 5]]"
      ]
     },
     "execution_count": 9,
     "metadata": {},
     "output_type": "execute_result"
    }
   ],
   "source": [
    "aspheres.points_of_alpha_sphere"
   ]
  }
 ],
 "metadata": {
  "kernelspec": {
   "display_name": "Python 3 (ipykernel)",
   "language": "python",
   "name": "python3"
  },
  "language_info": {
   "codemirror_mode": {
    "name": "ipython",
    "version": 3
   },
   "file_extension": ".py",
   "mimetype": "text/x-python",
   "name": "python",
   "nbconvert_exporter": "python",
   "pygments_lexer": "ipython3",
   "version": "3.7.12"
  }
 },
 "nbformat": 4,
 "nbformat_minor": 5
}
